{
 "cells": [
  {
   "cell_type": "code",
   "execution_count": 1,
   "id": "6e363485",
   "metadata": {},
   "outputs": [],
   "source": [
    "import xmltodict\n",
    "import os\n",
    "import timeit\n",
    "\n",
    "from rdflib import RDF, RDFS, XSD, DCTERMS, SKOS, OWL, DCAT, Literal, Graph, Namespace, URIRef, BNode"
   ]
  },
  {
   "cell_type": "code",
   "execution_count": 2,
   "id": "498a12b8",
   "metadata": {},
   "outputs": [],
   "source": [
    "def parse_xml(file):\n",
    "\n",
    "    xmlfile = open(file, 'r')\n",
    "\n",
    "    # read xml file\n",
    "    xml_content = xmlfile.read()\n",
    "\n",
    "    # change xml format to ordered dict\n",
    "    xml_dict = xmltodict.parse(xml_content)\n",
    "    \n",
    "    return xml_dict"
   ]
  },
  {
   "cell_type": "code",
   "execution_count": 3,
   "id": "8ad899d0",
   "metadata": {},
   "outputs": [],
   "source": [
    "def define_dataset_iri(xml_dict, easy_dataset_ns):\n",
    "    \n",
    "    # define DATASET start of xml tree\n",
    "    iri_str = xml_dict['record']['header']['identifier']\n",
    "\n",
    "    # define DATASET IRI\n",
    "    dataset_iri = easy_dataset_ns + 'ds' + iri_str\n",
    "    \n",
    "    return dataset_iri"
   ]
  },
  {
   "cell_type": "code",
   "execution_count": 4,
   "id": "a9bac1ec",
   "metadata": {},
   "outputs": [],
   "source": [
    "def add_dataset_triple(graph, dataset_iri, xml_dict):\n",
    "    \n",
    "    # add DATASET triples to graph\n",
    "\n",
    "    graph.add((URIRef(dataset_iri), RDF.type, easy_ns.DataSet))\n",
    "    \n",
    "    graph.add((URIRef(dataset_iri), easy_dataset_ns.creator, Literal(xml_dict['record']['metadata']['resource']['creators']['creator']['creatorName']['#text'])))\n",
    "    graph.add((URIRef(dataset_iri), easy_dataset_ns.title, Literal(xml_dict['record']['metadata']['resource']['titles']['title'])))\n",
    "    graph.add((URIRef(dataset_iri), easy_dataset_ns.publisher, Literal(xml_dict['record']['metadata']['resource']['publisher'])))\n",
    "    graph.add((URIRef(dataset_iri), easy_dataset_ns.subjectScheme, Literal(xml_dict['record']['metadata']['resource']['subjects']['subject'][0]['@subjectScheme'])))\n",
    "    graph.add((URIRef(dataset_iri), easy_dataset_ns.schemeUri, Literal(xml_dict['record']['metadata']['resource']['subjects']['subject'][0]['@schemeURI'])))\n",
    "    graph.add((URIRef(dataset_iri), easy_dataset_ns.valueUri, Literal(xml_dict['record']['metadata']['resource']['subjects']['subject'][0]['@valueURI'])))\n",
    "    graph.add((URIRef(dataset_iri), easy_dataset_ns.subjectSchemeText, Literal(xml_dict['record']['metadata']['resource']['subjects']['subject'][0]['#text'])))\n",
    "    graph.add((URIRef(dataset_iri), easy_dataset_ns.subject, Literal(xml_dict['record']['metadata']['resource']['subjects']['subject'][1])))\n",
    "    graph.add((URIRef(dataset_iri), easy_dataset_ns.temporalCoverage, Literal(xml_dict['record']['metadata']['resource']['subjects']['subject'][2])))\n",
    "    \n",
    "    \n",
    "    graph.add((URIRef(dataset_iri), easy_dataset_ns.hasAccess, Literal(xml_dict['record']['metadata']['resource']['rightsList']['rights'][0])))\n",
    "    graph.add((URIRef(dataset_iri), easy_dataset_ns.hasLicense, Literal(xml_dict['record']['metadata']['resource']['rightsList']['rights'][1]['@rightsURI'])))\n",
    "    \n",
    "    return graph"
   ]
  },
  {
   "cell_type": "code",
   "execution_count": 5,
   "id": "76864489",
   "metadata": {},
   "outputs": [],
   "source": [
    "def write_output_file(graph, ofile):\n",
    "    \n",
    "    # serialize graph and create output\n",
    "    \n",
    "    with open(ofile, \"w\") as f:\n",
    "        f.write(graph.serialize(format=\"turtle\"))"
   ]
  },
  {
   "cell_type": "code",
   "execution_count": 6,
   "id": "801b05d6",
   "metadata": {},
   "outputs": [],
   "source": [
    "# path to directory\n",
    "directory_path = '../../odissei-data/LISS-harvester/easy-data/rec/easy/'\n",
    "\n",
    "# output file name\n",
    "ofile = \"output.ttl\"\n",
    "\n",
    "# define namespaces\n",
    "easy_ns = Namespace(\"https://portal.odissei-data.nl/data/easy/\")\n",
    "easy_dataset_ns = Namespace(\"https://portal.odissei-data.nl/data/easy/datasets/\")"
   ]
  },
  {
   "cell_type": "code",
   "execution_count": 7,
   "id": "c1fb3673",
   "metadata": {},
   "outputs": [
    {
     "ename": "TypeError",
     "evalue": "string indices must be integers",
     "output_type": "error",
     "traceback": [
      "\u001b[0;31m---------------------------------------------------------------------------\u001b[0m",
      "\u001b[0;31mTypeError\u001b[0m                                 Traceback (most recent call last)",
      "\u001b[0;32m<ipython-input-7-ddc497179da6>\u001b[0m in \u001b[0;36m<module>\u001b[0;34m\u001b[0m\n\u001b[1;32m     18\u001b[0m         \u001b[0mdataset_iri\u001b[0m \u001b[0;34m=\u001b[0m \u001b[0mdefine_dataset_iri\u001b[0m\u001b[0;34m(\u001b[0m\u001b[0mxml_dict\u001b[0m\u001b[0;34m,\u001b[0m \u001b[0measy_dataset_ns\u001b[0m\u001b[0;34m)\u001b[0m\u001b[0;34m\u001b[0m\u001b[0;34m\u001b[0m\u001b[0m\n\u001b[1;32m     19\u001b[0m \u001b[0;34m\u001b[0m\u001b[0m\n\u001b[0;32m---> 20\u001b[0;31m         \u001b[0madd_dataset_triple\u001b[0m\u001b[0;34m(\u001b[0m\u001b[0mgraph\u001b[0m\u001b[0;34m,\u001b[0m \u001b[0mdataset_iri\u001b[0m\u001b[0;34m,\u001b[0m \u001b[0mxml_dict\u001b[0m\u001b[0;34m)\u001b[0m\u001b[0;34m\u001b[0m\u001b[0;34m\u001b[0m\u001b[0m\n\u001b[0m\u001b[1;32m     21\u001b[0m \u001b[0;34m\u001b[0m\u001b[0m\n\u001b[1;32m     22\u001b[0m \u001b[0mwrite_output_file\u001b[0m\u001b[0;34m(\u001b[0m\u001b[0mgraph\u001b[0m\u001b[0;34m,\u001b[0m \u001b[0mofile\u001b[0m\u001b[0;34m)\u001b[0m\u001b[0;34m\u001b[0m\u001b[0;34m\u001b[0m\u001b[0m\n",
      "\u001b[0;32m<ipython-input-4-e984a359e240>\u001b[0m in \u001b[0;36madd_dataset_triple\u001b[0;34m(graph, dataset_iri, xml_dict)\u001b[0m\n\u001b[1;32m      5\u001b[0m     \u001b[0mgraph\u001b[0m\u001b[0;34m.\u001b[0m\u001b[0madd\u001b[0m\u001b[0;34m(\u001b[0m\u001b[0;34m(\u001b[0m\u001b[0mURIRef\u001b[0m\u001b[0;34m(\u001b[0m\u001b[0mdataset_iri\u001b[0m\u001b[0;34m)\u001b[0m\u001b[0;34m,\u001b[0m \u001b[0mRDF\u001b[0m\u001b[0;34m.\u001b[0m\u001b[0mtype\u001b[0m\u001b[0;34m,\u001b[0m \u001b[0measy_ns\u001b[0m\u001b[0;34m.\u001b[0m\u001b[0mDataSet\u001b[0m\u001b[0;34m)\u001b[0m\u001b[0;34m)\u001b[0m\u001b[0;34m\u001b[0m\u001b[0;34m\u001b[0m\u001b[0m\n\u001b[1;32m      6\u001b[0m \u001b[0;34m\u001b[0m\u001b[0m\n\u001b[0;32m----> 7\u001b[0;31m     \u001b[0mgraph\u001b[0m\u001b[0;34m.\u001b[0m\u001b[0madd\u001b[0m\u001b[0;34m(\u001b[0m\u001b[0;34m(\u001b[0m\u001b[0mURIRef\u001b[0m\u001b[0;34m(\u001b[0m\u001b[0mdataset_iri\u001b[0m\u001b[0;34m)\u001b[0m\u001b[0;34m,\u001b[0m \u001b[0measy_dataset_ns\u001b[0m\u001b[0;34m.\u001b[0m\u001b[0mcreator\u001b[0m\u001b[0;34m,\u001b[0m \u001b[0mLiteral\u001b[0m\u001b[0;34m(\u001b[0m\u001b[0mxml_dict\u001b[0m\u001b[0;34m[\u001b[0m\u001b[0;34m'record'\u001b[0m\u001b[0;34m]\u001b[0m\u001b[0;34m[\u001b[0m\u001b[0;34m'metadata'\u001b[0m\u001b[0;34m]\u001b[0m\u001b[0;34m[\u001b[0m\u001b[0;34m'resource'\u001b[0m\u001b[0;34m]\u001b[0m\u001b[0;34m[\u001b[0m\u001b[0;34m'creators'\u001b[0m\u001b[0;34m]\u001b[0m\u001b[0;34m[\u001b[0m\u001b[0;34m'creator'\u001b[0m\u001b[0;34m]\u001b[0m\u001b[0;34m[\u001b[0m\u001b[0;34m'creatorName'\u001b[0m\u001b[0;34m]\u001b[0m\u001b[0;34m[\u001b[0m\u001b[0;34m'#text'\u001b[0m\u001b[0;34m]\u001b[0m\u001b[0;34m)\u001b[0m\u001b[0;34m)\u001b[0m\u001b[0;34m)\u001b[0m\u001b[0;34m\u001b[0m\u001b[0;34m\u001b[0m\u001b[0m\n\u001b[0m\u001b[1;32m      8\u001b[0m     \u001b[0mgraph\u001b[0m\u001b[0;34m.\u001b[0m\u001b[0madd\u001b[0m\u001b[0;34m(\u001b[0m\u001b[0;34m(\u001b[0m\u001b[0mURIRef\u001b[0m\u001b[0;34m(\u001b[0m\u001b[0mdataset_iri\u001b[0m\u001b[0;34m)\u001b[0m\u001b[0;34m,\u001b[0m \u001b[0measy_dataset_ns\u001b[0m\u001b[0;34m.\u001b[0m\u001b[0mtitle\u001b[0m\u001b[0;34m,\u001b[0m \u001b[0mLiteral\u001b[0m\u001b[0;34m(\u001b[0m\u001b[0mxml_dict\u001b[0m\u001b[0;34m[\u001b[0m\u001b[0;34m'record'\u001b[0m\u001b[0;34m]\u001b[0m\u001b[0;34m[\u001b[0m\u001b[0;34m'metadata'\u001b[0m\u001b[0;34m]\u001b[0m\u001b[0;34m[\u001b[0m\u001b[0;34m'resource'\u001b[0m\u001b[0;34m]\u001b[0m\u001b[0;34m[\u001b[0m\u001b[0;34m'titles'\u001b[0m\u001b[0;34m]\u001b[0m\u001b[0;34m[\u001b[0m\u001b[0;34m'title'\u001b[0m\u001b[0;34m]\u001b[0m\u001b[0;34m)\u001b[0m\u001b[0;34m)\u001b[0m\u001b[0;34m)\u001b[0m\u001b[0;34m\u001b[0m\u001b[0;34m\u001b[0m\u001b[0m\n\u001b[1;32m      9\u001b[0m     \u001b[0mgraph\u001b[0m\u001b[0;34m.\u001b[0m\u001b[0madd\u001b[0m\u001b[0;34m(\u001b[0m\u001b[0;34m(\u001b[0m\u001b[0mURIRef\u001b[0m\u001b[0;34m(\u001b[0m\u001b[0mdataset_iri\u001b[0m\u001b[0;34m)\u001b[0m\u001b[0;34m,\u001b[0m \u001b[0measy_dataset_ns\u001b[0m\u001b[0;34m.\u001b[0m\u001b[0mpublisher\u001b[0m\u001b[0;34m,\u001b[0m \u001b[0mLiteral\u001b[0m\u001b[0;34m(\u001b[0m\u001b[0mxml_dict\u001b[0m\u001b[0;34m[\u001b[0m\u001b[0;34m'record'\u001b[0m\u001b[0;34m]\u001b[0m\u001b[0;34m[\u001b[0m\u001b[0;34m'metadata'\u001b[0m\u001b[0;34m]\u001b[0m\u001b[0;34m[\u001b[0m\u001b[0;34m'resource'\u001b[0m\u001b[0;34m]\u001b[0m\u001b[0;34m[\u001b[0m\u001b[0;34m'publisher'\u001b[0m\u001b[0;34m]\u001b[0m\u001b[0;34m)\u001b[0m\u001b[0;34m)\u001b[0m\u001b[0;34m)\u001b[0m\u001b[0;34m\u001b[0m\u001b[0;34m\u001b[0m\u001b[0m\n",
      "\u001b[0;31mTypeError\u001b[0m: string indices must be integers"
     ]
    }
   ],
   "source": [
    "# make graph\n",
    "graph = Graph()\n",
    "\n",
    "# namespace binding to graph\n",
    "graph.bind(\"easy\", easy_ns)\n",
    "graph.bind(\"easyData\", easy_dataset_ns)\n",
    "\n",
    "\n",
    "start = timeit.default_timer()\n",
    "\n",
    "\n",
    "for file in os.listdir(directory_path):\n",
    "    \n",
    "    if file.endswith('.xml'):\n",
    "\n",
    "        xml_dict = parse_xml(os.path.join(directory_path, file))\n",
    "\n",
    "        dataset_iri = define_dataset_iri(xml_dict, easy_dataset_ns)\n",
    "\n",
    "        add_dataset_triple(graph, dataset_iri, xml_dict)\n",
    "\n",
    "write_output_file(graph, ofile)\n",
    "\n",
    "\n",
    "stop = timeit.default_timer()\n",
    "\n",
    "print('Time: ', stop - start)  "
   ]
  },
  {
   "cell_type": "code",
   "execution_count": null,
   "id": "4d61a191",
   "metadata": {},
   "outputs": [],
   "source": [
    "file = '../../odissei-data/LISS-harvester/easy-data/rec/easy/oai_easy_dans_knaw_nl_easy_dataset_34.xml'"
   ]
  },
  {
   "cell_type": "code",
   "execution_count": null,
   "id": "141222fc",
   "metadata": {},
   "outputs": [],
   "source": [
    "xml_dict = parse_xml(file)"
   ]
  },
  {
   "cell_type": "code",
   "execution_count": null,
   "id": "f778cd96",
   "metadata": {},
   "outputs": [],
   "source": [
    "xml_dict['record']['metadata']['resource']['subjects']['subject'][1]\n",
    "\n",
    "\n"
   ]
  },
  {
   "cell_type": "code",
   "execution_count": null,
   "id": "44331882",
   "metadata": {},
   "outputs": [],
   "source": []
  }
 ],
 "metadata": {
  "kernelspec": {
   "display_name": "Python 3",
   "language": "python",
   "name": "python3"
  },
  "language_info": {
   "codemirror_mode": {
    "name": "ipython",
    "version": 3
   },
   "file_extension": ".py",
   "mimetype": "text/x-python",
   "name": "python",
   "nbconvert_exporter": "python",
   "pygments_lexer": "ipython3",
   "version": "3.8.5"
  }
 },
 "nbformat": 4,
 "nbformat_minor": 5
}
