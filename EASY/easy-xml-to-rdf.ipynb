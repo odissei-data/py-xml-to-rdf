{
 "cells": [
  {
   "cell_type": "code",
   "execution_count": 1,
   "id": "619465f0",
   "metadata": {},
   "outputs": [],
   "source": [
    "import xmltodict\n",
    "import os\n",
    "import timeit\n",
    "\n",
    "from rdflib import RDF, RDFS, XSD, DCTERMS, SKOS, OWL, DCAT, Literal, Graph, Namespace, URIRef, BNode"
   ]
  },
  {
   "cell_type": "code",
   "execution_count": 2,
   "id": "780f0cd7",
   "metadata": {},
   "outputs": [],
   "source": [
    "def parse_xml(file):\n",
    "\n",
    "    xmlfile = open(file, 'r')\n",
    "\n",
    "    # read xml file\n",
    "    xml_content = xmlfile.read()\n",
    "\n",
    "    # change xml format to ordered dict\n",
    "    xml_dict = xmltodict.parse(xml_content)\n",
    "    \n",
    "    return xml_dict"
   ]
  },
  {
   "cell_type": "code",
   "execution_count": 3,
   "id": "fa71d669",
   "metadata": {},
   "outputs": [],
   "source": [
    "def define_dataset_iri(xml_dict, easy_dataset_ns):\n",
    "    \n",
    "    # define DATASET start of xml tree\n",
    "    iri_str = xml_dict['record']['header']['identifier']\n",
    "\n",
    "    # define DATASET IRI\n",
    "    dataset_iri = easy_dataset_ns + 'ds' + iri_str\n",
    "    \n",
    "    return dataset_iri"
   ]
  },
  {
   "cell_type": "code",
   "execution_count": 4,
   "id": "956af155",
   "metadata": {},
   "outputs": [],
   "source": [
    "def add_dataset_triple(graph, dataset_iri, xml_dict):\n",
    "    \n",
    "    # add DATASET triples to graph\n",
    "\n",
    "    graph.add((URIRef(dataset_iri), RDF.type, easy_ns.DataSet))\n",
    "    graph.add((URIRef(dataset_iri), easy_dataset_ns.hasAccess, Literal(xml_dict['record']['metadata']['resource']['rightsList']['rights'][0])))\n",
    "    graph.add((URIRef(dataset_iri), easy_dataset_ns.hasLicense, Literal(xml_dict['record']['metadata']['resource']['rightsList']['rights'][1]['@rightsURI'])))\n",
    "    \n",
    "    return graph"
   ]
  },
  {
   "cell_type": "code",
   "execution_count": 5,
   "id": "08cf8bd5",
   "metadata": {},
   "outputs": [],
   "source": [
    "def write_output_file(graph, ofile):\n",
    "    \n",
    "    # serialize graph and create output\n",
    "    \n",
    "    with open(ofile, \"w\") as f:\n",
    "        f.write(graph.serialize(format=\"turtle\"))"
   ]
  },
  {
   "cell_type": "code",
   "execution_count": 6,
   "id": "5f875aa6",
   "metadata": {},
   "outputs": [],
   "source": [
    "# path to directory\n",
    "directory_path = '../../odissei-data/LISS-harvester/easy-data/rec/easy/'\n",
    "\n",
    "# output file name\n",
    "ofile = \"output.ttl\"\n",
    "\n",
    "# define namespaces\n",
    "easy_ns = Namespace(\"https://portal.odissei-data.nl/data/easy/\")\n",
    "easy_dataset_ns = Namespace(\"https://portal.odissei-data.nl/data/easy/datasets/\")"
   ]
  },
  {
   "cell_type": "code",
   "execution_count": 7,
   "id": "22d62ff2",
   "metadata": {},
   "outputs": [
    {
     "name": "stdout",
     "output_type": "stream",
     "text": [
      "Time:  302.95340245799997\n"
     ]
    }
   ],
   "source": [
    "# make graph\n",
    "graph = Graph()\n",
    "\n",
    "# namespace binding to graph\n",
    "graph.bind(\"easy\", easy_ns)\n",
    "graph.bind(\"easyData\", easy_dataset_ns)\n",
    "\n",
    "\n",
    "start = timeit.default_timer()\n",
    "\n",
    "\n",
    "for file in os.listdir(directory_path):\n",
    "    \n",
    "    if file.endswith('.xml'):\n",
    "\n",
    "        xml_dict = parse_xml(os.path.join(directory_path, file))\n",
    "\n",
    "        dataset_iri = define_dataset_iri(xml_dict, easy_dataset_ns)\n",
    "\n",
    "        add_dataset_triple(graph, dataset_iri, xml_dict)\n",
    "\n",
    "write_output_file(graph, ofile)\n",
    "\n",
    "\n",
    "stop = timeit.default_timer()\n",
    "\n",
    "print('Time: ', stop - start)  "
   ]
  },
  {
   "cell_type": "code",
   "execution_count": 4,
   "id": "27fc7653",
   "metadata": {},
   "outputs": [],
   "source": []
  },
  {
   "cell_type": "code",
   "execution_count": null,
   "id": "2014a581",
   "metadata": {},
   "outputs": [],
   "source": []
  }
 ],
 "metadata": {
  "kernelspec": {
   "display_name": "Python 3",
   "language": "python",
   "name": "python3"
  },
  "language_info": {
   "codemirror_mode": {
    "name": "ipython",
    "version": 3
   },
   "file_extension": ".py",
   "mimetype": "text/x-python",
   "name": "python",
   "nbconvert_exporter": "python",
   "pygments_lexer": "ipython3",
   "version": "3.8.5"
  }
 },
 "nbformat": 4,
 "nbformat_minor": 5
}
