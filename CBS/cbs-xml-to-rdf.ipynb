{
 "cells": [
  {
   "cell_type": "code",
   "execution_count": 1,
   "id": "16162cc8",
   "metadata": {},
   "outputs": [],
   "source": [
    "import xmltodict\n",
    "import os\n",
    "import hashlib\n",
    "\n",
    "from rdflib import RDF, RDFS, XSD, DCTERMS, SKOS, OWL, DCAT, Literal, Graph, Namespace, URIRef, BNode"
   ]
  },
  {
   "cell_type": "code",
   "execution_count": 2,
   "id": "cb944ef3",
   "metadata": {},
   "outputs": [],
   "source": [
    "# path to directory\n",
    "#directory_path = './test-data' ## FOR TESTING\n",
    "directory_path = '../../CBS-metadata/ODISSEI_Full_Export_20210924'\n",
    "\n",
    "# output file name\n",
    "ofile = \"cbs-metadata.ttl\"\n",
    "\n",
    "# define namespaces\n",
    "cbs_ns = Namespace(\"https://portal.odissei-data.nl/data/cbs/metadata/\")\n",
    "var_ns = Namespace(\"https://portal.odissei-data.nl/data/cbs/variableThesaurus/\")\n",
    "cbs_prop_ns = Namespace(\"https://portal.odissei-data.nl/data/cbs/metadataProperties/\")"
   ]
  },
  {
   "cell_type": "code",
   "execution_count": 3,
   "id": "93b972cd",
   "metadata": {},
   "outputs": [],
   "source": [
    "# make graph\n",
    "graph = Graph()\n",
    "\n",
    "# namespace binding to graph\n",
    "graph.bind(\"cbs\", cbs_ns)\n",
    "graph.bind(\"cbsVar\", var_ns)\n",
    "graph.bind(\"cbsProp\", cbs_prop_ns)\n",
    "graph.bind(\"skos\", SKOS)\n",
    "graph.bind(\"rdf\", RDF)\n",
    "graph.bind(\"xsd\", XSD)\n",
    "graph.bind(\"dcat\", DCAT)"
   ]
  },
  {
   "cell_type": "code",
   "execution_count": 4,
   "id": "8887f529",
   "metadata": {},
   "outputs": [],
   "source": [
    "def make_xml_dictionary(file):\n",
    "    \"\"\"\n",
    "    Use the xmltodict library to create a dictionary from the xml file.\n",
    "    \"\"\"\n",
    "    xmlfile = open(file, 'r')\n",
    "    xml_content = xmlfile.read()\n",
    "    xml_dictionary = xmltodict.parse(xml_content)\n",
    "    return xml_dictionary"
   ]
  },
  {
   "cell_type": "code",
   "execution_count": 5,
   "id": "328c5764",
   "metadata": {},
   "outputs": [],
   "source": [
    "def define_cbs_metadata_scheme(cbs_ns):\n",
    "    \"\"\"\n",
    "    Create concept scheme of the CBS Metadata.\n",
    "    \"\"\"\n",
    "    graph.add((URIRef(cbs_ns), RDF.type, SKOS.ConceptScheme))\n",
    "    graph.add((URIRef(cbs_ns), SKOS.prefLabel, Literal(\"CBS Metadata Concepts Scheme\")))\n",
    "    return graph "
   ]
  },
  {
   "cell_type": "code",
   "execution_count": 6,
   "id": "5d760a55",
   "metadata": {},
   "outputs": [],
   "source": [
    "def make_dataset_id(cbs_ns, xml_dictionary):\n",
    "    \"\"\"\n",
    "    Create ID of the dataset.\n",
    "    A 'd' has been added at the begging of the ID to indicate that\n",
    "    we are refering to a dataset.\n",
    "    \"\"\"\n",
    "    dataset_id = cbs_ns + \"d\" + xml_dictionary['Dataontwerpversies']['Versie']['Dataontwerp']['Id']\n",
    "    return dataset_id"
   ]
  },
  {
   "cell_type": "code",
   "execution_count": 7,
   "id": "a0e626c5",
   "metadata": {},
   "outputs": [],
   "source": [
    "def add_methodology_triples(xml_dictionary, dataset_id, cbs_prop_ns):\n",
    "    \"\"\"\n",
    "    Adding triples to the graph about the methodology information.\n",
    "    \"\"\"\n",
    "    if isinstance(xml_dictionary['Dataontwerpversies']['Versie']['Dataontwerp']['GebruikteMethodologie'], str):\n",
    "        graph.add((URIRef(dataset_id), cbs_prop_ns.methodology, Literal(xml_dictionary['Dataontwerpversies']['Versie']['Dataontwerp']['GebruikteMethodologie'], lang='nl')))\n",
    "    return graph"
   ]
  },
  {
   "cell_type": "code",
   "execution_count": 8,
   "id": "87193b07",
   "metadata": {},
   "outputs": [],
   "source": [
    "def make_variables_list(xml_dictionary):\n",
    "    \"\"\"\n",
    "    Make a list out of the variables in the dictionary.\n",
    "    \"\"\"\n",
    "    variables_list = xml_dictionary['Dataontwerpversies']['Versie']['Dataontwerp']['Contextvariabelen']['Contextvariabele']\n",
    "    return variables_list"
   ]
  },
  {
   "cell_type": "code",
   "execution_count": 9,
   "id": "e3b6c815",
   "metadata": {},
   "outputs": [],
   "source": [
    "def make_narrower_variable_id(var, var_ns):\n",
    "    \"\"\"\n",
    "    Create ID of the 'context' (or narrower) variable.\n",
    "    A 'c' has been added at the begging of the ID to indicate that\n",
    "    we are refering to a context variable.\n",
    "    \"\"\"\n",
    "    id_hash = hashlib.sha256((var['Variabele']['Id'] + var['LabelVanDeVariabele']).encode('utf-8')).hexdigest()\n",
    "    narrower_variable_id = var_ns + \"c\" + id_hash\n",
    "    return narrower_variable_id"
   ]
  },
  {
   "cell_type": "code",
   "execution_count": 10,
   "id": "0b2ceef2",
   "metadata": {},
   "outputs": [],
   "source": [
    "def make_keyword_id(keyword, cbs_ns):\n",
    "    \"\"\"\n",
    "    Create ID of the keyword.\n",
    "    A 'k' has been added at the begging of the ID to indicate that\n",
    "    we are refering to a keyword.\n",
    "    \"\"\"\n",
    "    keyword_hash = hashlib.sha256(keyword.encode('utf-8')).hexdigest()\n",
    "    keyword_id = cbs_ns + \"k\" + keyword_hash\n",
    "    return keyword_id"
   ]
  },
  {
   "cell_type": "code",
   "execution_count": 11,
   "id": "824877b0",
   "metadata": {},
   "outputs": [],
   "source": [
    "def make_theme_id(theme, cbs_ns):\n",
    "    \"\"\"\n",
    "    Create ID of the theme.\n",
    "    A 't' has been added at the begging of the ID to indicate that\n",
    "    we are refering to a theme.\n",
    "    \"\"\"\n",
    "    theme_hash = hashlib.sha256(theme.encode('utf-8')).hexdigest()\n",
    "    theme_id = cbs_ns + \"t\" + theme_hash\n",
    "    return theme_id"
   ]
  },
  {
   "cell_type": "code",
   "execution_count": 12,
   "id": "ba933213",
   "metadata": {},
   "outputs": [],
   "source": [
    "def add_keywords_triples(xml_dictionary, dataset_id, cbs_prop_ns, cbs_ns):\n",
    "    \"\"\"\n",
    "    Adding triples to the graph about the keywords.\n",
    "    \"\"\"\n",
    "    keywords = xml_dictionary['Dataontwerpversies']['Versie']['Dataontwerp']['Trefwoorden']\n",
    "    keyword = keywords.get('Trefwoord')\n",
    "    if keyword:\n",
    "        if isinstance(keyword, str):\n",
    "            graph.add((URIRef(dataset_id), cbs_prop_ns.keyword, URIRef(make_keyword_id(keyword, cbs_ns))))\n",
    "        if isinstance(keyword, list):\n",
    "            for word in keyword:\n",
    "                if isinstance(word, str):\n",
    "                    graph.add((URIRef(dataset_id), cbs_prop_ns.keyword, URIRef(make_keyword_id(word, cbs_ns)))) \n",
    "    return graph    "
   ]
  },
  {
   "cell_type": "code",
   "execution_count": 13,
   "id": "21309c09",
   "metadata": {},
   "outputs": [],
   "source": [
    "def add_themes_triples(xml_dictionary, dataset_id, cbs_prop_ns, cbs_ns):\n",
    "    \"\"\"\n",
    "    Adding triples to the graph about the themes.\n",
    "    \"\"\"\n",
    "    themes = xml_dictionary['Dataontwerpversies']['Versie']['Dataontwerp']['Themas']['Thema']\n",
    "    if isinstance(themes, str):\n",
    "        graph.add((URIRef(dataset_id), cbs_prop_ns.theme, URIRef(make_theme_id(themes, cbs_ns))))\n",
    "    if isinstance(themes, list):\n",
    "        for theme in themes:\n",
    "            graph.add((URIRef(dataset_id), cbs_prop_ns.theme, URIRef(make_theme_id(theme, cbs_ns)))) \n",
    "    return graph   "
   ]
  },
  {
   "cell_type": "code",
   "execution_count": 14,
   "id": "68dd9e04",
   "metadata": {},
   "outputs": [],
   "source": [
    "def add_variable_triples(xml_dictionary, dataset_id, var_ns, cbs_prop_ns):\n",
    "    \"\"\"\n",
    "    Adding triples to the graph about the variables.\n",
    "    \"\"\"\n",
    "    variables_list = make_variables_list(xml_dictionary) \n",
    "    for var in variables_list:\n",
    "        narrower_variable_id = make_narrower_variable_id(var, var_ns)\n",
    "        graph.add((URIRef(dataset_id), cbs_prop_ns.hasVariable, URIRef(narrower_variable_id)))\n",
    "    return graph"
   ]
  },
  {
   "cell_type": "code",
   "execution_count": 15,
   "id": "14f30f8b",
   "metadata": {},
   "outputs": [],
   "source": [
    "def add_metadata_triples(xml_dictionary):\n",
    "    \"\"\"\n",
    "    Adding all triples to the graph about the.\n",
    "    \"\"\"\n",
    "    dataset_id = make_dataset_id(cbs_ns, xml_dictionary)\n",
    "    \n",
    "    graph.add((URIRef(dataset_id), RDF.type, SKOS.Concept))\n",
    "    graph.add((URIRef(dataset_id), SKOS.definition, Literal(xml_dictionary['Dataontwerpversies']['Versie']['Dataontwerp']['Beschrijving'], lang='nl')))\n",
    "    graph.add((URIRef(dataset_id), cbs_prop_ns.dataDesignGroupPath, Literal(xml_dictionary['Dataontwerpversies']['Versie']['Dataontwerp']['Dataontwerpgroeppad'], lang='nl')))\n",
    "    graph.add((URIRef(dataset_id), SKOS.prefLabel, Literal(xml_dictionary['Dataontwerpversies']['Versie']['Dataontwerp']['VerkorteSchrijfwijzeNaamDataontwerp'], lang='nl')))\n",
    "    graph.add((URIRef(dataset_id), cbs_prop_ns.descriptionOfThePopulation, Literal(xml_dictionary['Dataontwerpversies']['Versie']['Dataontwerp']['BeschrijvingVanDePopulatie'], lang='nl')))\n",
    "    \n",
    "    add_methodology_triples(xml_dictionary, dataset_id, cbs_prop_ns)\n",
    "    \n",
    "    graph.add((URIRef(dataset_id), cbs_prop_ns.typeReportingPeriod, Literal(xml_dictionary['Dataontwerpversies']['Versie']['Dataontwerp']['TypeVerslagperiode'], lang='nl')))\n",
    "    graph.add((URIRef(dataset_id), cbs_prop_ns.dataType, Literal(xml_dictionary['Dataontwerpversies']['Versie']['Dataontwerp']['SoortData'], lang='nl')))    \n",
    "    graph.add((URIRef(dataset_id), cbs_prop_ns.validFrom, Literal(xml_dictionary['Dataontwerpversies']['Versie']['Dataontwerp']['GeldigVanaf'], datatype=XSD.date)))\n",
    "    \n",
    "    add_keywords_triples(xml_dictionary, dataset_id, cbs_prop_ns, cbs_ns)\n",
    "    add_themes_triples(xml_dictionary, dataset_id, cbs_prop_ns, cbs_ns)\n",
    "    add_variable_triples(xml_dictionary, dataset_id, var_ns, cbs_prop_ns)\n",
    "    \n",
    "    return graph"
   ]
  },
  {
   "cell_type": "code",
   "execution_count": 16,
   "id": "82179892",
   "metadata": {},
   "outputs": [],
   "source": [
    "def write_output_file(graph, ofile):\n",
    "    \"\"\"\n",
    "    Write the content of the graph into an output file.\n",
    "    \"\"\"\n",
    "    \n",
    "    # serialize graph and create output\n",
    "    \n",
    "    with open(ofile, \"w\") as f:\n",
    "        f.write(graph.serialize(format=\"turtle\"))"
   ]
  },
  {
   "cell_type": "code",
   "execution_count": 17,
   "id": "fdcf64fa",
   "metadata": {},
   "outputs": [],
   "source": [
    "for file in os.listdir(directory_path):\n",
    "    \n",
    "    if file.endswith('.dsc'):\n",
    "\n",
    "        xml_dictionary = make_xml_dictionary(os.path.join(directory_path, file))\n",
    "        \n",
    "        add_metadata_triples(xml_dictionary)\n",
    "\n",
    "write_output_file(graph, ofile)"
   ]
  },
  {
   "cell_type": "code",
   "execution_count": null,
   "id": "ad70c69c",
   "metadata": {},
   "outputs": [],
   "source": []
  },
  {
   "cell_type": "code",
   "execution_count": null,
   "id": "adee0c4d",
   "metadata": {},
   "outputs": [],
   "source": []
  },
  {
   "cell_type": "code",
   "execution_count": null,
   "id": "9cc15b77",
   "metadata": {},
   "outputs": [],
   "source": []
  }
 ],
 "metadata": {
  "kernelspec": {
   "display_name": "Python 3",
   "language": "python",
   "name": "python3"
  },
  "language_info": {
   "codemirror_mode": {
    "name": "ipython",
    "version": 3
   },
   "file_extension": ".py",
   "mimetype": "text/x-python",
   "name": "python",
   "nbconvert_exporter": "python",
   "pygments_lexer": "ipython3",
   "version": "3.8.5"
  }
 },
 "nbformat": 4,
 "nbformat_minor": 5
}
