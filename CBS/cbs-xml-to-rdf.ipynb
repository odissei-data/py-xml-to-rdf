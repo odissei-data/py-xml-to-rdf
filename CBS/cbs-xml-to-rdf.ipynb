{
 "cells": [
  {
   "cell_type": "code",
   "execution_count": 1,
   "id": "16162cc8",
   "metadata": {},
   "outputs": [],
   "source": [
    "import xmltodict\n",
    "import os\n",
    "import timeit\n",
    "\n",
    "from rdflib import RDF, RDFS, XSD, DCTERMS, SKOS, OWL, DCAT, Literal, Graph, Namespace, URIRef, BNode"
   ]
  },
  {
   "cell_type": "code",
   "execution_count": 2,
   "id": "8887f529",
   "metadata": {},
   "outputs": [],
   "source": [
    "def parse_xml(file):\n",
    "\n",
    "    xmlfile = open(file, 'r')\n",
    "\n",
    "    # read xml file\n",
    "    xml_content = xmlfile.read()\n",
    "\n",
    "    # change xml format to ordered dict\n",
    "    xml_dict = xmltodict.parse(xml_content)\n",
    "    \n",
    "    return xml_dict"
   ]
  },
  {
   "cell_type": "code",
   "execution_count": 3,
   "id": "1686c72e",
   "metadata": {},
   "outputs": [],
   "source": [
    "def define_dataset_iri(xml_dict, cbs_dataset_ns):\n",
    "    \n",
    "    # define DATASET start of xml tree\n",
    "    dataset_dict = dict(xml_dict['Dataontwerpversies']['Versie']['Dataontwerp'])\n",
    "\n",
    "    # define DATASET IRI\n",
    "    dataset_iri = cbs_dataset_ns + 'ds' + dataset_dict['Id']\n",
    "    \n",
    "    return dataset_iri, dataset_dict"
   ]
  },
  {
   "cell_type": "code",
   "execution_count": 4,
   "id": "5ca2e464",
   "metadata": {},
   "outputs": [],
   "source": [
    "def define_variable_iri(var, cbs_variable_ns):\n",
    "\n",
    "    # define VARIABLE IRI\n",
    "    variable_iri = cbs_variable_ns + 'vr' + var['Variabele']['Id'] \n",
    "    \n",
    "    return variable_iri"
   ]
  },
  {
   "cell_type": "code",
   "execution_count": 5,
   "id": "074d87a8",
   "metadata": {},
   "outputs": [],
   "source": [
    "def add_dataset_triple(graph, dataset_iri, dataset_dict):\n",
    "    \n",
    "    # add DATASET triples to graph\n",
    "    graph.add((URIRef(dataset_iri), RDF.type, SKOS.Concept))\n",
    "    graph.add((URIRef(dataset_iri), RDF.type, cbs_ns.DataSet))\n",
    "    graph.add((URIRef(dataset_iri), cbs_dataset_ns.dataDesignGroupPath, Literal(dataset_dict['Dataontwerpgroeppad'], lang='nl')))\n",
    "    graph.add((URIRef(dataset_iri), SKOS.definition, Literal(dataset_dict['Beschrijving'], lang='nl')))\n",
    "    graph.add((URIRef(dataset_iri), SKOS.altLabel, Literal(dataset_dict['VerkorteSchrijfwijzeNaamDataontwerp'], lang='nl')))\n",
    "    graph.add((URIRef(dataset_iri), cbs_dataset_ns.descriptionOfThePopulation, Literal(dataset_dict['BeschrijvingVanDePopulatie'], lang='nl')))\n",
    "\n",
    "    if isinstance(dataset_dict['GebruikteMethodologie'], str):\n",
    "        graph.add((URIRef(dataset_iri), cbs_dataset_ns.methodology, Literal(dataset_dict['GebruikteMethodologie'], lang='nl')))\n",
    "\n",
    "    graph.add((URIRef(dataset_iri), cbs_dataset_ns.typeReportingPeriod, Literal(dataset_dict['TypeVerslagperiode'], lang='nl')))\n",
    "    graph.add((URIRef(dataset_iri), ids_ns.dataType, Literal(dataset_dict['SoortData'], lang='nl')))\n",
    "    graph.add((URIRef(dataset_iri), dqm_ns.validFrom, Literal(dataset_dict['GeldigVanaf'], datatype=XSD.date)))\n",
    "    \n",
    "    #graph.add((URIRef(dataset_iri), DCAT.keyword, Literal(dataset_dict['Trefwoorden']['Trefwoord'], lang='nl')))\n",
    "    #graph.add((URIRef(dataset_iri), ids_ns.theme, Literal(dataset_dict['Themas']['Thema'], lang='nl')))\n",
    "    \n",
    "    return graph"
   ]
  },
  {
   "cell_type": "code",
   "execution_count": 6,
   "id": "a334bcf8",
   "metadata": {},
   "outputs": [],
   "source": [
    "def make_variable_dict_list(xml_dict):\n",
    "    \n",
    "    # define VARIABLE dictionary list\n",
    "\n",
    "    variable_dictionary_list = xml_dict['Dataontwerpversies']['Versie']['Dataontwerp']['Contextvariabelen']['Contextvariabele']\n",
    "\n",
    "    return variable_dictionary_list"
   ]
  },
  {
   "cell_type": "code",
   "execution_count": 7,
   "id": "7f338f8e",
   "metadata": {},
   "outputs": [],
   "source": [
    "def define_context_iri(cbs_context_ns, variable_iri, cbs_variable_ns, dataset_iri, cbs_dataset_ns):\n",
    "    \n",
    "    # define the IRI for the context of the variable\n",
    "    \n",
    "    context_iri = cbs_context_ns + variable_iri.replace(cbs_variable_ns, \"\") + dataset_iri.replace(cbs_dataset_ns, \"\")\n",
    "    \n",
    "    return context_iri"
   ]
  },
  {
   "cell_type": "code",
   "execution_count": 8,
   "id": "5520e545",
   "metadata": {},
   "outputs": [],
   "source": [
    "def add_context_triple(var, context_iri, variable_iri, dataset_iri):\n",
    "    \n",
    "    # add CONTEXT triples\n",
    "    \n",
    "    graph.add((URIRef(context_iri), RDF.type, SKOS.Concept))\n",
    "    graph.add((URIRef(context_iri), RDF.type, cbs_ns.Context))\n",
    "    graph.add((URIRef(context_iri), cbs_context_ns.hasDatasetContext, URIRef(dataset_iri)))\n",
    "    graph.add((URIRef(context_iri), cbs_context_ns.hasVariableContext, URIRef(variable_iri)))\n",
    "    graph.add((URIRef(context_iri), SKOS.altLabel, Literal(var['VerkorteSchrijfwijzeNaamVariabele'])))\n",
    "    \n",
    "    return graph"
   ]
  },
  {
   "cell_type": "code",
   "execution_count": 9,
   "id": "a8dc356b",
   "metadata": {},
   "outputs": [],
   "source": [
    "def add_variable_triple(variable_dictionary_list, dataset_iri, graph):\n",
    "    \n",
    "    # add VARIABLE triples to graph\n",
    "\n",
    "    for var in variable_dictionary_list:\n",
    "\n",
    "        variable_iri = define_variable_iri(var, cbs_variable_ns)\n",
    "        context_iri = define_context_iri(cbs_context_ns, variable_iri, cbs_variable_ns, dataset_iri, cbs_dataset_ns)\n",
    "\n",
    "        graph.add((URIRef(dataset_iri), cbs_dataset_ns.hasVariable, URIRef(variable_iri)))\n",
    "\n",
    "        graph.add((URIRef(variable_iri), RDF.type, SKOS.Concept))\n",
    "        graph.add((URIRef(variable_iri), RDF.type, cbs_ns.Variable))\n",
    "        graph.add((URIRef(variable_iri), SKOS.altLabel, Literal(var['Variabele']['UniekeNaam'], lang='nl')))\n",
    "        graph.add((URIRef(variable_iri), SKOS.definition, Literal(var['Variabele']['Definitie'], lang='nl')))\n",
    "        graph.add((URIRef(variable_iri), dqm_ns.validFrom, Literal(var['Variabele']['GeldigVanaf'], datatype=XSD.date)))\n",
    "\n",
    "        if isinstance(var['ToelichtingBijDeDefinitie'], str):\n",
    "            graph.add((URIRef(variable_iri), lexinfo_ns.explanation, Literal(var['ToelichtingBijDeDefinitie'], lang='nl')))\n",
    "\n",
    "        graph.add((URIRef(variable_iri), SKOS.prefLabel, Literal(var['LabelVanDeVariabele'], lang='nl')))\n",
    "        graph.add((URIRef(variable_iri), ids_ns.dataType, Literal(var['Datatype'], lang='nl')))\n",
    "        \n",
    "        graph.add((URIRef(variable_iri), cbs_variable_ns.hasContext, URIRef(context_iri)))\n",
    "        add_context_triple(var, context_iri, variable_iri, dataset_iri)\n",
    "        \n",
    "    return graph"
   ]
  },
  {
   "cell_type": "code",
   "execution_count": 10,
   "id": "d7848dba",
   "metadata": {},
   "outputs": [],
   "source": [
    "def write_output_file(graph, ofile):\n",
    "    \n",
    "    # serialize graph and create output\n",
    "    \n",
    "    with open(ofile, \"w\") as f:\n",
    "        f.write(graph.serialize(format=\"turtle\"))"
   ]
  },
  {
   "cell_type": "code",
   "execution_count": 11,
   "id": "a53ba6f6",
   "metadata": {},
   "outputs": [],
   "source": [
    "# path to directory\n",
    "directory_path = '../../CBS-metadata/ODISSEI_Full_Export_20210924'\n",
    "\n",
    "# output file name\n",
    "ofile = \"output.ttl\"\n",
    "\n",
    "# define namespaces\n",
    "cbs_ns = Namespace(\"https://portal.odissei-data.nl/data/cbs/\")\n",
    "cbs_dataset_ns = Namespace(\"https://portal.odissei-data.nl/data/cbs/datasets/\")\n",
    "cbs_variable_ns = Namespace(\"https://portal.odissei-data.nl/data/cbs/variables/\")\n",
    "cbs_context_ns = Namespace(\"https://portal.odissei-data.nl/data/cbs/contexts/\")\n",
    "dqm_ns = Namespace(\"http://purl.org/dqm-vocabulary/v1/dqm#\")\n",
    "lexinfo_ns = Namespace(\"http://www.lexinfo.net/ontology/2.0/lexinfo#\")\n",
    "ids_ns = Namespace(\"https://w3id.org/idsa/core/\")"
   ]
  },
  {
   "cell_type": "code",
   "execution_count": 12,
   "id": "cd079296",
   "metadata": {},
   "outputs": [
    {
     "name": "stdout",
     "output_type": "stream",
     "text": [
      "Time:  59.737149792000004\n"
     ]
    }
   ],
   "source": [
    "start = timeit.default_timer()\n",
    "\n",
    "# make graph\n",
    "graph = Graph()\n",
    "\n",
    "# namespace binding to graph\n",
    "graph.bind(\"cbs\", cbs_ns)\n",
    "graph.bind(\"cbsData\", cbs_dataset_ns)\n",
    "graph.bind(\"cbsVar\", cbs_variable_ns)\n",
    "graph.bind(\"cbsCon\", cbs_context_ns)\n",
    "graph.bind(\"skos\", SKOS)\n",
    "graph.bind(\"rdf\", RDF)\n",
    "graph.bind(\"xsd\", XSD)\n",
    "graph.bind(\"dqm\", dqm_ns)\n",
    "graph.bind(\"lexinfo\", lexinfo_ns)\n",
    "graph.bind(\"ids\", ids_ns)\n",
    "graph.bind(\"dcat\", DCAT)\n",
    "\n",
    "\n",
    "for file in os.listdir(directory_path):\n",
    "    \n",
    "    if file.endswith('.dsc'):\n",
    "\n",
    "        xml_dict = parse_xml(os.path.join(directory_path, file))\n",
    "\n",
    "        dataset_iri, dataset_dict = define_dataset_iri(xml_dict, cbs_dataset_ns)\n",
    "\n",
    "        variable_dictionary_list = make_variable_dict_list(xml_dict)\n",
    "\n",
    "        add_dataset_triple(graph, dataset_iri, dataset_dict)\n",
    "\n",
    "        add_variable_triple(variable_dictionary_list, dataset_iri, graph)\n",
    "\n",
    "write_output_file(graph, ofile)\n",
    "    \n",
    "\n",
    "stop = timeit.default_timer()\n",
    "\n",
    "print('Time: ', stop - start)  "
   ]
  },
  {
   "cell_type": "code",
   "execution_count": null,
   "id": "1fbca86b",
   "metadata": {},
   "outputs": [],
   "source": []
  },
  {
   "cell_type": "code",
   "execution_count": null,
   "id": "7077a887",
   "metadata": {},
   "outputs": [],
   "source": []
  },
  {
   "cell_type": "code",
   "execution_count": null,
   "id": "e63b3d45",
   "metadata": {},
   "outputs": [],
   "source": []
  }
 ],
 "metadata": {
  "kernelspec": {
   "display_name": "Python 3",
   "language": "python",
   "name": "python3"
  },
  "language_info": {
   "codemirror_mode": {
    "name": "ipython",
    "version": 3
   },
   "file_extension": ".py",
   "mimetype": "text/x-python",
   "name": "python",
   "nbconvert_exporter": "python",
   "pygments_lexer": "ipython3",
   "version": "3.8.5"
  }
 },
 "nbformat": 4,
 "nbformat_minor": 5
}
